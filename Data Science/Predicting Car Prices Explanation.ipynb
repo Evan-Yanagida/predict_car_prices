{
 "cells": [
  {
   "cell_type": "markdown",
   "metadata": {},
   "source": [
    "# 0) Import Dependencies"
   ]
  },
  {
   "cell_type": "code",
   "execution_count": 1,
   "metadata": {},
   "outputs": [],
   "source": [
    "    #Gathering data\n",
    "import pandas as pd\n",
    "import numpy as np\n",
    "    #Models\n",
    "from sklearn.neighbors import KNeighborsRegressor\n",
    "from sklearn.metrics import mean_squared_error\n",
    "    #Evaluating results\n",
    "import matplotlib.pyplot as plt\n",
    "%matplotlib inline\n",
    "    #Python built-ins\n",
    "from collections import OrderedDict\n",
    "import operator\n",
    "import sys"
   ]
  },
  {
   "cell_type": "code",
   "execution_count": 2,
   "metadata": {},
   "outputs": [],
   "source": [
    "#Set seed (for controlling reproducability)\n",
    "np.random.seed(1)"
   ]
  },
  {
   "cell_type": "markdown",
   "metadata": {},
   "source": [
    "# 1) Get Data"
   ]
  },
  {
   "cell_type": "markdown",
   "metadata": {},
   "source": [
    "## -Load"
   ]
  },
  {
   "cell_type": "code",
   "execution_count": 3,
   "metadata": {},
   "outputs": [],
   "source": [
    "#Read in data\n",
    "cols = ['symboling', 'normalized-losses', 'make', 'fuel-type', 'aspiration', 'num-of-doors', 'body-style', \n",
    "        'drive-wheels', 'engine-location', 'wheel-base', 'length', 'width', 'height', 'curb-weight', 'engine-type', \n",
    "        'num-of-cylinders', 'engine-size', 'fuel-system', 'bore', 'stroke', 'compression-rate', 'horsepower', \n",
    "        'peak-rpm', 'city-mpg', 'highway-mpg', 'price']\n",
    "cars = pd.read_csv('imports-85.data', names=cols)"
   ]
  },
  {
   "cell_type": "markdown",
   "metadata": {},
   "source": [
    "We load in the data, making sure to label each column properly so we know which data belongs to which features."
   ]
  },
  {
   "cell_type": "markdown",
   "metadata": {},
   "source": [
    "## -Remove Inapplicable Data"
   ]
  },
  {
   "cell_type": "code",
   "execution_count": 4,
   "metadata": {},
   "outputs": [],
   "source": [
    "#Select columns to remove\n",
    "drop_columns = ['make', 'fuel-type', 'aspiration', 'body-style', \n",
    "                'drive-wheels', 'engine-location', 'engine-type', 'fuel-system',\n",
    "               'num-of-doors', 'num-of-cylinders', 'symboling', 'engine-size',\n",
    "               'normalized-losses']\n",
    "cars = cars.drop(drop_columns, axis=1)"
   ]
  },
  {
   "cell_type": "markdown",
   "metadata": {},
   "source": [
    "Here, we choose which features we are going to train the model on.\n",
    "\n",
    "I chose to remove any feature that was:\n",
    "1. Non-numerical *(make, fuel-type, aspiration, body-style, drive-wheels, engine-location, engine-type, fuel-system)*\n",
    "2. Non-ordinal *(num-of-doors, num-of-cylinders, symboling, engine-size)*\n",
    "3. Had too many NaN's *(normalized-losses)*"
   ]
  },
  {
   "cell_type": "markdown",
   "metadata": {},
   "source": [
    "## -Clean"
   ]
  },
  {
   "cell_type": "code",
   "execution_count": 5,
   "metadata": {},
   "outputs": [],
   "source": [
    "#Replace all ?'s with NaN's\n",
    "numeric_cars = cars.replace(to_replace='?', value=np.nan)\n",
    "#Drop all rows with NaN's\n",
    "numeric_cars = numeric_cars.dropna(axis=0)\n",
    "#Convert all to float64\n",
    "numeric_cars = numeric_cars.astype(dtype='float64')\n",
    "#Normalize all values so all values range from 0 to 1, except target feature\n",
    "normalized_cars = (numeric_cars - numeric_cars.min())/(numeric_cars.max() - numeric_cars.min())\n",
    "normalized_cars['price'] = numeric_cars['price']"
   ]
  },
  {
   "cell_type": "markdown",
   "metadata": {},
   "source": [
    "We remove all remaining messy data, and convert the data to a format that the model can accurately train on."
   ]
  },
  {
   "cell_type": "markdown",
   "metadata": {},
   "source": [
    "# 2) Train model"
   ]
  },
  {
   "cell_type": "markdown",
   "metadata": {},
   "source": [
    "## -Build (best) model"
   ]
  },
  {
   "cell_type": "code",
   "execution_count": 6,
   "metadata": {},
   "outputs": [],
   "source": [
    "#Construct a multivariate variable k model\n",
    "def create_model(feature_labels, df):\n",
    "    # SHAPE DATA\n",
    "    # Randomize order of rows in data frame.\n",
    "    shuffled_index = np.random.permutation(df.index)\n",
    "    rand_df = df.reindex(shuffled_index)\n",
    "    \n",
    "    #partition data\n",
    "    df_length = rand_df.index.size\n",
    "    partition_start = int(df_length*.75)\n",
    "    train_df = df.iloc[0:partition_start]\n",
    "    test_df = df.iloc[partition_start:]\n",
    "    \n",
    "    # TRAIN MODEL\n",
    "    #init\n",
    "    knn = KNeighborsRegressor(n_neighbors=12)\n",
    "    \n",
    "    #fit\n",
    "    train_feature = df[feature_labels]\n",
    "    train_target = df['price']\n",
    "    knn.fit(train_feature, train_target)\n",
    "    \n",
    "    return knn"
   ]
  },
  {
   "cell_type": "code",
   "execution_count": 7,
   "metadata": {},
   "outputs": [],
   "source": [
    "best_model_features = ['wheel-base', 'width', 'length', 'curb-weight', 'horsepower'] #See \"Show Your Work\" section to determine best features\n",
    "best_model = create_model(best_model_features, normalized_cars)"
   ]
  },
  {
   "cell_type": "markdown",
   "metadata": {},
   "source": [
    "# 3) Create end-to-end solution"
   ]
  },
  {
   "cell_type": "markdown",
   "metadata": {},
   "source": [
    "## -Take in user's data"
   ]
  },
  {
   "cell_type": "code",
   "execution_count": 8,
   "metadata": {},
   "outputs": [],
   "source": [
    "#A function to create a dictionary from two lists (that represent keys and values)\n",
    "def create_dict(keys, values):\n",
    "    return dict(zip(keys, values + [None] * (len(keys) - len(values))))"
   ]
  },
  {
   "cell_type": "code",
   "execution_count": 9,
   "metadata": {},
   "outputs": [
    {
     "name": "stdout",
     "output_type": "stream",
     "text": [
      "wheel-base: 6\n",
      "length: 7\n",
      "width: 8\n",
      "curb-weight: 9\n",
      "horsepower: 1\n"
     ]
    }
   ],
   "source": [
    "#Take in and store the user's data for their car listing, but only the features necessary to predict a price\n",
    "user_listing = list()\n",
    "for i in range(len(cols)):\n",
    "    curr_feature = cols[i]\n",
    "    if curr_feature in best_model_features:\n",
    "        user_input = input(curr_feature + \": \")\n",
    "        try:\n",
    "            user_input = float(user_input)\n",
    "        except ValueError:    #ensure the user will input numbers\n",
    "            print(\"ERROR: Invalid input for this feature: \" + \"'\" + curr_feature + \"'\")\n",
    "            sys.exit()\n",
    "        else:\n",
    "            user_listing.append([float(user_input)])  #store user-input as a float\n",
    "    else:\n",
    "        user_listing.append(['?'])"
   ]
  },
  {
   "cell_type": "code",
   "execution_count": 10,
   "metadata": {},
   "outputs": [
    {
     "data": {
      "text/html": [
       "<div>\n",
       "<style scoped>\n",
       "    .dataframe tbody tr th:only-of-type {\n",
       "        vertical-align: middle;\n",
       "    }\n",
       "\n",
       "    .dataframe tbody tr th {\n",
       "        vertical-align: top;\n",
       "    }\n",
       "\n",
       "    .dataframe thead th {\n",
       "        text-align: right;\n",
       "    }\n",
       "</style>\n",
       "<table border=\"1\" class=\"dataframe\">\n",
       "  <thead>\n",
       "    <tr style=\"text-align: right;\">\n",
       "      <th></th>\n",
       "      <th>aspiration</th>\n",
       "      <th>body-style</th>\n",
       "      <th>bore</th>\n",
       "      <th>city-mpg</th>\n",
       "      <th>compression-rate</th>\n",
       "      <th>curb-weight</th>\n",
       "      <th>drive-wheels</th>\n",
       "      <th>engine-location</th>\n",
       "      <th>engine-size</th>\n",
       "      <th>engine-type</th>\n",
       "      <th>...</th>\n",
       "      <th>make</th>\n",
       "      <th>normalized-losses</th>\n",
       "      <th>num-of-cylinders</th>\n",
       "      <th>num-of-doors</th>\n",
       "      <th>peak-rpm</th>\n",
       "      <th>price</th>\n",
       "      <th>stroke</th>\n",
       "      <th>symboling</th>\n",
       "      <th>wheel-base</th>\n",
       "      <th>width</th>\n",
       "    </tr>\n",
       "  </thead>\n",
       "  <tbody>\n",
       "    <tr>\n",
       "      <th>0</th>\n",
       "      <td>?</td>\n",
       "      <td>?</td>\n",
       "      <td>?</td>\n",
       "      <td>?</td>\n",
       "      <td>?</td>\n",
       "      <td>9.0</td>\n",
       "      <td>?</td>\n",
       "      <td>?</td>\n",
       "      <td>?</td>\n",
       "      <td>?</td>\n",
       "      <td>...</td>\n",
       "      <td>?</td>\n",
       "      <td>?</td>\n",
       "      <td>?</td>\n",
       "      <td>?</td>\n",
       "      <td>?</td>\n",
       "      <td>?</td>\n",
       "      <td>?</td>\n",
       "      <td>?</td>\n",
       "      <td>6.0</td>\n",
       "      <td>8.0</td>\n",
       "    </tr>\n",
       "  </tbody>\n",
       "</table>\n",
       "<p>1 rows × 26 columns</p>\n",
       "</div>"
      ],
      "text/plain": [
       "  aspiration body-style bore city-mpg compression-rate  curb-weight  \\\n",
       "0          ?          ?    ?        ?                ?          9.0   \n",
       "\n",
       "  drive-wheels engine-location engine-size engine-type  ...  make  \\\n",
       "0            ?               ?           ?           ?  ...     ?   \n",
       "\n",
       "  normalized-losses num-of-cylinders num-of-doors  peak-rpm  price stroke  \\\n",
       "0                 ?                ?            ?         ?      ?      ?   \n",
       "\n",
       "  symboling wheel-base width  \n",
       "0         ?        6.0   8.0  \n",
       "\n",
       "[1 rows x 26 columns]"
      ]
     },
     "execution_count": 10,
     "metadata": {},
     "output_type": "execute_result"
    }
   ],
   "source": [
    "#Convert the user's car listing to a format the model can process\n",
    "user_data = create_dict(cols, user_listing)\n",
    "user_df = pd.DataFrame(data=user_data)\n",
    "user_df"
   ]
  },
  {
   "cell_type": "markdown",
   "metadata": {},
   "source": [
    "## -Predict price"
   ]
  },
  {
   "cell_type": "code",
   "execution_count": 11,
   "metadata": {},
   "outputs": [],
   "source": [
    "#A function to predict a price using premade sklearn KNN model\n",
    "def predict_price(knn_model, user_data, feature_labels):\n",
    "    #predict\n",
    "    prediction = knn_model.predict(user_data[feature_labels])\n",
    "    predicted_value = prediction[0]\n",
    "    predicted_price = \"$\" + \"%.2f\" % round(predicted_value,2)   #round to two decimal places and display as a dollar amount\n",
    "    \n",
    "    return predicted_price"
   ]
  },
  {
   "cell_type": "code",
   "execution_count": 12,
   "metadata": {},
   "outputs": [
    {
     "name": "stdout",
     "output_type": "stream",
     "text": [
      "Your car is worth: $31463.25.\n"
     ]
    }
   ],
   "source": [
    "prediction = predict_price(best_model, user_df, best_model_features)\n",
    "print(\"Your car is worth: \" + prediction + \".\")"
   ]
  },
  {
   "cell_type": "markdown",
   "metadata": {},
   "source": [
    "# 3) Show Your Work\n",
    "\n",
    "### Reasoning Behind the Settings on Our Price Predictor Model"
   ]
  },
  {
   "cell_type": "markdown",
   "metadata": {},
   "source": [
    "**Ultimate Goal**: To find the best performing model to put into our price predictor\n",
    "\n",
    "\n",
    "* In order to do that with the tools available, we need to find:\n",
    "\n",
    "    A. The __*best feature selection*__\n",
    "    \n",
    "    B. __*Optimal hyperparameter values*__ (in this case, best k-value for number of neighbors to include in predicting our price)\n",
    "    \n",
    "    \n",
    "* A. To achieve the __best feature selection__, we need to:\n",
    "\n",
    "    i. Rank how each feature individually performs in its ability to accurately predict a price (*univariate models*)\n",
    "    \n",
    "    ii. Compare how different combinations of the best ranking features perform (*multivariate models*)\n",
    "    \n",
    "    \n",
    "* B. To find the __optimal k-value__ to reduce error further, we test the best multivariate models across multiple k-values to find the k-value that performs the best for each model\n",
    "\n",
    "\n",
    "**Conclusion**: The model that has the lowest error value for its specific combination of feature selection and optimal hyperparameters is the best model, and the model we will use in our script to predict car prices."
   ]
  },
  {
   "cell_type": "markdown",
   "metadata": {},
   "source": [
    "# Univariate Model (Find the Best Features)"
   ]
  },
  {
   "cell_type": "markdown",
   "metadata": {},
   "source": [
    "Our first order of business is to **rank how each feature individually performs in its ability to accurately predict a price.**"
   ]
  },
  {
   "cell_type": "markdown",
   "metadata": {},
   "source": [
    "### The Original Function (static k)"
   ]
  },
  {
   "cell_type": "code",
   "execution_count": 13,
   "metadata": {},
   "outputs": [],
   "source": [
    "def knn_train_test(train_name, target_name, df):\n",
    "    np.random.seed(1)\n",
    "        \n",
    "    # Randomize order of rows in data frame.\n",
    "    shuffled_index = np.random.permutation(df.index)\n",
    "    rand_df = df.reindex(shuffled_index)\n",
    "    \n",
    "    #partition data\n",
    "    df_length = rand_df.index.size\n",
    "    partition_start = int(df_length*.75)\n",
    "    train_df = rand_df.iloc[0:partition_start]\n",
    "    test_df = rand_df.iloc[partition_start:]\n",
    "    \n",
    "    # TRAIN MODEL\n",
    "    #init\n",
    "    knn = KNeighborsRegressor()\n",
    "    \n",
    "    #fit\n",
    "    train_feature = df[[train_name]]\n",
    "    train_target = df[target_name]\n",
    "    knn.fit(train_feature, train_target)\n",
    "    \n",
    "    #predict\n",
    "    predictions = knn.predict(test_df[[train_name]])\n",
    "    \n",
    "    #eval\n",
    "    mse = mean_squared_error(test_df[target_name], predictions)\n",
    "    rmse = mse**(1/2)\n",
    "    \n",
    "    return rmse"
   ]
  },
  {
   "cell_type": "code",
   "execution_count": 14,
   "metadata": {},
   "outputs": [],
   "source": [
    "#Test every feature as a univariate model to see which performs best\n",
    "features_list = list(normalized_cars)\n",
    "features_list.remove('price')\n",
    "\n",
    "rmse_values = dict()\n",
    "for feature in features_list:\n",
    "    rmse = knn_train_test(feature, 'price', normalized_cars)\n",
    "    rmse_values[feature] = rmse"
   ]
  },
  {
   "cell_type": "code",
   "execution_count": 15,
   "metadata": {},
   "outputs": [
    {
     "name": "stdout",
     "output_type": "stream",
     "text": [
      "Best Feature: wheel-base\n",
      "Corresponding Error: 2522.2496472921366\n"
     ]
    }
   ],
   "source": [
    "#Print the name of the feature that resulted in lowest error\n",
    "best_feature = min(rmse_values, key=rmse_values.get)\n",
    "\n",
    "print(\"Best Feature: \" +  best_feature)\n",
    "print(\"Corresponding Error: \" + str(rmse_values[best_feature]))"
   ]
  },
  {
   "cell_type": "markdown",
   "metadata": {},
   "source": [
    "### Updated Function (Dynamic K)"
   ]
  },
  {
   "cell_type": "code",
   "execution_count": 16,
   "metadata": {},
   "outputs": [],
   "source": [
    "def knn_train_test(train_name, target_name, df, k):\n",
    "    np.random.seed(1)\n",
    "        \n",
    "    # Randomize order of rows in data frame.\n",
    "    shuffled_index = np.random.permutation(df.index)\n",
    "    rand_df = df.reindex(shuffled_index)\n",
    "    \n",
    "    #partition data\n",
    "    df_length = rand_df.index.size\n",
    "    partition_start = int(df_length*.75)\n",
    "    train_df = rand_df.iloc[0:partition_start]\n",
    "    test_df = rand_df.iloc[partition_start:]\n",
    "    \n",
    "    # TRAIN MODEL\n",
    "    #init\n",
    "    knn = KNeighborsRegressor(n_neighbors=k)\n",
    "    \n",
    "    #fit\n",
    "    train_feature = df[[train_name]]\n",
    "    train_target = df[target_name]\n",
    "    knn.fit(train_feature, train_target)\n",
    "    \n",
    "    #predict\n",
    "    predictions = knn.predict(test_df[[train_name]])\n",
    "    \n",
    "    #eval\n",
    "    mse = mean_squared_error(test_df[target_name], predictions)\n",
    "    rmse = mse**(1/2)\n",
    "    \n",
    "    return rmse"
   ]
  },
  {
   "cell_type": "code",
   "execution_count": 17,
   "metadata": {},
   "outputs": [],
   "source": [
    "#Test each univariate model for a variety of k-values\n",
    "features_list = list(normalized_cars)\n",
    "features_list.remove('price')\n",
    "\n",
    "rmse_values = dict()\n",
    "for feature in features_list:\n",
    "    k_values = [1,3,5,7,9]\n",
    "    feature_rmses = OrderedDict()\n",
    "    for k_val in k_values:\n",
    "        rmse = knn_train_test(feature, 'price', normalized_cars, k_val)\n",
    "        feature_rmses[k_val] = rmse\n",
    "    rmse_values[feature] = feature_rmses"
   ]
  },
  {
   "cell_type": "code",
   "execution_count": 18,
   "metadata": {},
   "outputs": [
    {
     "data": {
      "text/plain": [
       "{'bore': OrderedDict([(1, 4056.9790308976035),\n",
       "              (3, 3464.018563746061),\n",
       "              (5, 3716.9482441642795),\n",
       "              (7, 4056.6902903253726),\n",
       "              (9, 4540.8415701586555)]),\n",
       " 'city-mpg': OrderedDict([(1, 3120.04794900361),\n",
       "              (3, 4225.225832765449),\n",
       "              (5, 3427.8095727357404),\n",
       "              (7, 2929.988948412191),\n",
       "              (9, 3159.9371961158217)]),\n",
       " 'compression-rate': OrderedDict([(1, 6137.808375394366),\n",
       "              (3, 5558.805400916709),\n",
       "              (5, 5378.105096687904),\n",
       "              (7, 5476.186335178219),\n",
       "              (9, 5728.390895658601)]),\n",
       " 'curb-weight': OrderedDict([(1, 265.3527878896627),\n",
       "              (3, 2967.809094027799),\n",
       "              (5, 3675.7224743676484),\n",
       "              (7, 3728.964908250514),\n",
       "              (9, 3711.426593750194)]),\n",
       " 'height': OrderedDict([(1, 8200.508401362462),\n",
       "              (3, 6293.937093970446),\n",
       "              (5, 5603.7282680409135),\n",
       "              (7, 5398.515016751286),\n",
       "              (9, 5592.43514077087)]),\n",
       " 'highway-mpg': OrderedDict([(1, 4425.007704363176),\n",
       "              (3, 4237.728328954403),\n",
       "              (5, 4560.032375914425),\n",
       "              (7, 4175.82031171343),\n",
       "              (9, 4179.705461274552)]),\n",
       " 'horsepower': OrderedDict([(1, 3567.1098001786563),\n",
       "              (3, 2736.3396616217387),\n",
       "              (5, 3253.61890998755),\n",
       "              (7, 3619.9136470011417),\n",
       "              (9, 3636.7026700578162)]),\n",
       " 'length': OrderedDict([(1, 2857.6155323297507),\n",
       "              (3, 2045.1135202373478),\n",
       "              (5, 2739.214449585196),\n",
       "              (7, 3051.393013422834),\n",
       "              (9, 3626.9863334021284)]),\n",
       " 'peak-rpm': OrderedDict([(1, 6551.537879905506),\n",
       "              (3, 5781.630070107711),\n",
       "              (5, 5451.8454195972645),\n",
       "              (7, 6013.719154910361),\n",
       "              (9, 6326.430340254145)]),\n",
       " 'stroke': OrderedDict([(1, 7088.215796917689),\n",
       "              (3, 5526.690967467479),\n",
       "              (5, 6709.653826953446),\n",
       "              (7, 5917.337695760172),\n",
       "              (9, 5751.8485118350445)]),\n",
       " 'wheel-base': OrderedDict([(1, 2717.6018877694655),\n",
       "              (3, 1803.2478012333916),\n",
       "              (5, 2522.2496472921366),\n",
       "              (7, 3284.544371704538),\n",
       "              (9, 3628.6678906132834)]),\n",
       " 'width': OrderedDict([(1, 2397.905838051875),\n",
       "              (3, 2225.5121171706683),\n",
       "              (5, 2626.3095421957732),\n",
       "              (7, 3122.1664900893315),\n",
       "              (9, 3660.2029296224314)])}"
      ]
     },
     "execution_count": 18,
     "metadata": {},
     "output_type": "execute_result"
    }
   ],
   "source": [
    "rmse_values"
   ]
  },
  {
   "cell_type": "markdown",
   "metadata": {},
   "source": [
    "We use an OrderedDict() on the nested dictionary for each feature so that when we retrieve the rmse values, they stay in order to their respective k-values and thus will not cause problems for plotting in matplotlib."
   ]
  },
  {
   "cell_type": "code",
   "execution_count": 19,
   "metadata": {
    "scrolled": true
   },
   "outputs": [
    {
     "data": {
      "image/png": "[encoded data removed]",
      "text/plain": [
       "<matplotlib.figure.Figure at 0x10211e2b0>"
      ]
     },
     "metadata": {},
     "output_type": "display_data"
    }
   ],
   "source": [
    "#Plot out results for each model, to display how each feature performed\n",
    "for k,v in rmse_values.items():\n",
    "    #Create a list of each k-value for the current feature\n",
    "    x = list(v.keys())\n",
    "    #Create a list of the corresponding rmses for each k-value\n",
    "    y = list(v.values())\n",
    "    #Plot one feature's graph\n",
    "    plt.plot(x,y, label=k)\n",
    "    \n",
    "    #Label graph axes\n",
    "    plt.xlabel('k-value')\n",
    "    plt.ylabel('RMSE')"
   ]
  },
  {
   "cell_type": "markdown",
   "metadata": {},
   "source": [
    "##### Which features performed the best?"
   ]
  },
  {
   "cell_type": "code",
   "execution_count": 20,
   "metadata": {},
   "outputs": [
    {
     "data": {
      "text/plain": [
       "[('wheel-base', 2791.262319722563),\n",
       " ('width', 2806.419383426016),\n",
       " ('length', 2864.0645697954515),\n",
       " ('curb-weight', 2869.8551716571637),\n",
       " ('horsepower', 3362.736937769381),\n",
       " ('city-mpg', 3372.601899806563),\n",
       " ('bore', 3967.0955398583947),\n",
       " ('highway-mpg', 4315.658836443998),\n",
       " ('compression-rate', 5655.85922076716),\n",
       " ('peak-rpm', 6025.032572954997),\n",
       " ('stroke', 6198.749359786766),\n",
       " ('height', 6217.824784179195)]"
      ]
     },
     "execution_count": 20,
     "metadata": {},
     "output_type": "execute_result"
    }
   ],
   "source": [
    "#Get average rmse value for each feature\n",
    "avg_rmses = dict()\n",
    "for feature,val in rmse_values.items():\n",
    "    current_feat_rmses = list(val.values())\n",
    "    avg_rmse = np.mean(current_feat_rmses)\n",
    "    avg_rmses[feature] = avg_rmse\n",
    "\n",
    "#Display rmses in order of smallest to largest to see which feature did best (creates a list)\n",
    "sorted_rmses = sorted(avg_rmses.items(), key=operator.itemgetter(1))\n",
    "sorted_rmses"
   ]
  },
  {
   "cell_type": "markdown",
   "metadata": {},
   "source": [
    "# Multivariate Model (Find the Best Feature Selection)"
   ]
  },
  {
   "cell_type": "markdown",
   "metadata": {},
   "source": [
    "Next on the list is to find the best **combination of the best ranking features** (aka: Feature Selection)."
   ]
  },
  {
   "cell_type": "markdown",
   "metadata": {},
   "source": [
    "### Updated Function (Multivariate Static K)"
   ]
  },
  {
   "cell_type": "code",
   "execution_count": 21,
   "metadata": {},
   "outputs": [],
   "source": [
    "def knn_train_test(feature_labels, target_name, df):\n",
    "    np.random.seed(1)\n",
    "        \n",
    "    # Randomize order of rows in data frame.\n",
    "    shuffled_index = np.random.permutation(df.index)\n",
    "    rand_df = df.reindex(shuffled_index)\n",
    "    \n",
    "    #partition data\n",
    "    df_length = rand_df.index.size\n",
    "    partition_start = int(df_length*.75)\n",
    "    train_df = rand_df.iloc[0:partition_start]\n",
    "    test_df = rand_df.iloc[partition_start:]\n",
    "    \n",
    "    # TRAIN MODEL\n",
    "    #init\n",
    "    knn = KNeighborsRegressor()\n",
    "    \n",
    "    #fit\n",
    "    train_feature = df[feature_labels]\n",
    "    train_target = df[target_name]\n",
    "    knn.fit(train_feature, train_target)\n",
    "    \n",
    "    #predict\n",
    "    predictions = knn.predict(test_df[feature_labels])\n",
    "    \n",
    "    #eval\n",
    "    mse = mean_squared_error(test_df[target_name], predictions)\n",
    "    rmse = mse**(1/2)\n",
    "    \n",
    "    return rmse"
   ]
  },
  {
   "cell_type": "code",
   "execution_count": 22,
   "metadata": {},
   "outputs": [
    {
     "data": {
      "text/plain": [
       "[['wheel-base', 'width'],\n",
       " ['wheel-base', 'width', 'length'],\n",
       " ['wheel-base', 'width', 'length', 'curb-weight'],\n",
       " ['wheel-base', 'width', 'length', 'curb-weight', 'horsepower']]"
      ]
     },
     "execution_count": 22,
     "metadata": {},
     "output_type": "execute_result"
    }
   ],
   "source": [
    "#Get a list of all features, in order of best rmse values to worst\n",
    "sorted_feat_labels = list()\n",
    "for key,value in sorted_rmses:\n",
    "    sorted_feat_labels.append(key)\n",
    "\n",
    "#Retrieve labels for the features that ranked the best\n",
    "two_best_feat = sorted_feat_labels[0:2]\n",
    "three_best_feat = sorted_feat_labels[0:3]\n",
    "four_best_feat = sorted_feat_labels[0:4]\n",
    "five_best_feat = sorted_feat_labels[0:5]\n",
    "\n",
    "multivar_labels = [two_best_feat, three_best_feat, \n",
    "                   four_best_feat, five_best_feat]\n",
    "multivar_labels"
   ]
  },
  {
   "cell_type": "code",
   "execution_count": 23,
   "metadata": {},
   "outputs": [
    {
     "data": {
      "text/plain": [
       "{'2-features': 2752.650953061023,\n",
       " '3-features': 2751.1431577229337,\n",
       " '4-features': 2715.372762623946,\n",
       " '5-features': 1852.5634442852534}"
      ]
     },
     "execution_count": 23,
     "metadata": {},
     "output_type": "execute_result"
    }
   ],
   "source": [
    "mult_rmses = dict()\n",
    "feat_labels = dict()\n",
    "\n",
    "#Calculate rmse values for each model\n",
    "for i in range(len(multivar_labels)):\n",
    "    feature_count = i + 2\n",
    "    key = str(feature_count) + \"-features\"\n",
    "    feature_set = multivar_labels[i]\n",
    "    mult_rmses[key] = knn_train_test(feature_set, 'price', normalized_cars)\n",
    "    feat_labels[key] = feature_set\n",
    "    \n",
    "\n",
    "#Display rmses in order of smallest to largest to see which multivariate model did best\n",
    "mult_rmses"
   ]
  },
  {
   "cell_type": "code",
   "execution_count": 24,
   "metadata": {},
   "outputs": [],
   "source": [
    "#Get a list of the feature labels corresponding to the 3 best performing models, in order\n",
    "best_models_labels = list()\n",
    "\n",
    "for i in range(3):\n",
    "    best_key = min(mult_rmses, key=mult_rmses.get)\n",
    "    best_key_value = feat_labels[best_key]\n",
    "    best_models_labels.append(best_key_value)\n",
    "    mult_rmses.pop(best_key, None)"
   ]
  },
  {
   "cell_type": "code",
   "execution_count": 25,
   "metadata": {},
   "outputs": [
    {
     "data": {
      "text/plain": [
       "[['wheel-base', 'width', 'length', 'curb-weight', 'horsepower'],\n",
       " ['wheel-base', 'width', 'length', 'curb-weight'],\n",
       " ['wheel-base', 'width', 'length']]"
      ]
     },
     "execution_count": 25,
     "metadata": {},
     "output_type": "execute_result"
    }
   ],
   "source": [
    "best_models_labels"
   ]
  },
  {
   "cell_type": "markdown",
   "metadata": {},
   "source": [
    "# Hyperparameter Tuning (Find the Optimal K-Value)"
   ]
  },
  {
   "cell_type": "markdown",
   "metadata": {},
   "source": [
    "Finally, we test the best multivariate models across multiple k-values to find the **k-value that results in the least amount of error for each model.**"
   ]
  },
  {
   "cell_type": "markdown",
   "metadata": {},
   "source": [
    "### Updated Fuction (Multivariate Variable K)"
   ]
  },
  {
   "cell_type": "code",
   "execution_count": 26,
   "metadata": {},
   "outputs": [],
   "source": [
    "def knn_train_test(feature_labels, target_name, df, k):\n",
    "    np.random.seed(1)\n",
    "        \n",
    "    # Randomize order of rows in data frame.\n",
    "    shuffled_index = np.random.permutation(df.index)\n",
    "    rand_df = df.reindex(shuffled_index)\n",
    "    \n",
    "    #partition data\n",
    "    df_length = rand_df.index.size\n",
    "    partition_start = int(df_length*.75)\n",
    "    train_df = df.iloc[0:partition_start]\n",
    "    test_df = df.iloc[partition_start:]\n",
    "    \n",
    "    # TRAIN MODEL\n",
    "    #init\n",
    "    knn = KNeighborsRegressor(n_neighbors=k)\n",
    "    \n",
    "    #fit\n",
    "    train_feature = df[feature_labels]\n",
    "    train_target = df[target_name]\n",
    "    knn.fit(train_feature, train_target)\n",
    "    \n",
    "    #predict\n",
    "    predictions = knn.predict(test_df[feature_labels])\n",
    "    \n",
    "    #eval\n",
    "    mse = mean_squared_error(test_df[target_name], predictions)\n",
    "    rmse = mse**(1/2)\n",
    "    \n",
    "    return rmse"
   ]
  },
  {
   "cell_type": "code",
   "execution_count": 27,
   "metadata": {},
   "outputs": [
    {
     "data": {
      "text/plain": [
       "{'[1] (5-features)': OrderedDict([(1, 130.94632020606844),\n",
       "              (2, 905.0932948867645),\n",
       "              (3, 1148.8932661311278),\n",
       "              (4, 1209.1067752177848),\n",
       "              (5, 1527.6146762792223),\n",
       "              (6, 1538.3822439730084),\n",
       "              (7, 1574.2662279936696),\n",
       "              (8, 1686.1764336988062),\n",
       "              (9, 1721.1986208354442),\n",
       "              (10, 1736.4620821823733),\n",
       "              (11, 1798.5137563160179),\n",
       "              (12, 1777.508503819544),\n",
       "              (13, 1809.7715049510628),\n",
       "              (14, 1871.4241840577956),\n",
       "              (15, 1943.9579284707786),\n",
       "              (16, 1991.1297182971523),\n",
       "              (17, 2029.286634362835),\n",
       "              (18, 2038.7187697723837),\n",
       "              (19, 2036.1620237421507),\n",
       "              (20, 2046.9089452396363),\n",
       "              (21, 2029.65183183496),\n",
       "              (22, 2022.813406589919),\n",
       "              (23, 2010.639945651565),\n",
       "              (24, 1993.1863028570172),\n",
       "              (25, 1973.8017911530994)]),\n",
       " '[2] (4-features)': OrderedDict([(1, 130.94632020606844),\n",
       "              (2, 789.2906302367917),\n",
       "              (3, 1383.38395694601),\n",
       "              (4, 1848.0351769666406),\n",
       "              (5, 1776.7057069136665),\n",
       "              (6, 1830.0635013392953),\n",
       "              (7, 1887.5064864417948),\n",
       "              (8, 1804.0546196805728),\n",
       "              (9, 1821.8146382010766),\n",
       "              (10, 1921.4504470873674),\n",
       "              (11, 1892.4916118513295),\n",
       "              (12, 1954.4551220172827),\n",
       "              (13, 1909.234515825838),\n",
       "              (14, 1821.3515423888105),\n",
       "              (15, 1855.3656425061586),\n",
       "              (16, 1892.7840376086617),\n",
       "              (17, 1930.102314642869),\n",
       "              (18, 1944.75430257066),\n",
       "              (19, 1974.7969546793863),\n",
       "              (20, 1912.528903383034),\n",
       "              (21, 1915.7536514714027),\n",
       "              (22, 1903.5766848932078),\n",
       "              (23, 1901.219048904813),\n",
       "              (24, 1880.194354132366),\n",
       "              (25, 1829.926296809547)]),\n",
       " '[3] (3-features)': OrderedDict([(1, 2168.9019605057565),\n",
       "              (2, 1958.0840633076998),\n",
       "              (3, 2004.9809149684581),\n",
       "              (4, 2213.646950781466),\n",
       "              (5, 2132.6400557400534),\n",
       "              (6, 2027.7237648818605),\n",
       "              (7, 2129.854909383987),\n",
       "              (8, 2368.5537739115643),\n",
       "              (9, 2406.8011249533783),\n",
       "              (10, 2476.2497702561986),\n",
       "              (11, 2801.680802321615),\n",
       "              (12, 2739.268104701164),\n",
       "              (13, 2596.5131876668393),\n",
       "              (14, 2431.4444916580264),\n",
       "              (15, 2293.603687928434),\n",
       "              (16, 2187.4893595586695),\n",
       "              (17, 2212.8353978680943),\n",
       "              (18, 2138.5434548929816),\n",
       "              (19, 2088.9874814660207),\n",
       "              (20, 2079.4716840327205),\n",
       "              (21, 2122.6914280132155),\n",
       "              (22, 2150.9714405963387),\n",
       "              (23, 2103.6282289298915),\n",
       "              (24, 2086.4310282616643),\n",
       "              (25, 2075.3770987874536)])}"
      ]
     },
     "execution_count": 27,
     "metadata": {},
     "output_type": "execute_result"
    }
   ],
   "source": [
    "best_model_rmses = dict()\n",
    "k_values = [x for x in range(1,26)]\n",
    "\n",
    "#Calculate rmses for varying k values for the 3 best models\n",
    "for i in range(len(best_models_labels)):\n",
    "    train_features = best_models_labels[i]\n",
    "    current_model_vals = OrderedDict()\n",
    "    \n",
    "    #Calculate rmse values for each value of k\n",
    "    for k in k_values:\n",
    "        rmse = knn_train_test(train_features, 'price', normalized_cars, k)\n",
    "        current_model_vals[k] = rmse\n",
    "    \n",
    "    #Dynamically label which model did best, 2nd best, 3rd best\n",
    "    ranking = \"[\" + str(i+1) + \"]\"\n",
    "    num_of_feat = str(len(best_models_labels[i]))\n",
    "    key = ranking + \" (\" + num_of_feat + \"-features)\"\n",
    "    best_model_rmses[key] = current_model_vals\n",
    "    \n",
    "best_model_rmses"
   ]
  },
  {
   "cell_type": "code",
   "execution_count": 28,
   "metadata": {},
   "outputs": [
    {
     "data": {
      "image/png": "[encoded data removed]",
      "text/plain": [
       "<matplotlib.figure.Figure at 0x10e77a940>"
      ]
     },
     "metadata": {},
     "output_type": "display_data"
    }
   ],
   "source": [
    "for k,v in best_model_rmses.items():\n",
    "    #Create a list of each k-value for the current feature\n",
    "    x = list(v.keys())\n",
    "    #Create a list of the corresponding rmses for each k-value\n",
    "    y = list(v.values())\n",
    "    #Plot one feature's graph\n",
    "    plt.plot(x,y, label=k)\n",
    "    \n",
    "    #Label graph axes\n",
    "    plt.xlabel('k-value')\n",
    "    plt.ylabel('RMSE')\n",
    "    plt.legend(loc='lower right')"
   ]
  },
  {
   "cell_type": "markdown",
   "metadata": {},
   "source": [
    "In conclusion, we can see the 5 features model performed the best both overall, even when each model is equipped with its respective optimal k value.\n",
    "\n",
    "Side note: The optimal k-value can be found after the line stablizes out; it's the first trough before the rmse values begin to rise again.\n",
    "\n",
    "Thus, our best model is a **model with the features ('wheel-base', 'width', 'length', 'curb-weight', 'horsepower') and with a k-value of 12.**  This is how I decided on the settings for the price predicting model to use in the script.  You may see it back in cell [5]."
   ]
  }
 ],
 "metadata": {
  "kernelspec": {
   "display_name": "Python 3",
   "language": "python",
   "name": "python3"
  },
  "language_info": {
   "codemirror_mode": {
    "name": "ipython",
    "version": 3
   },
   "file_extension": ".py",
   "mimetype": "text/x-python",
   "name": "python",
   "nbconvert_exporter": "python",
   "pygments_lexer": "ipython3",
   "version": "3.6.4"
  }
 },
 "nbformat": 4,
 "nbformat_minor": 2
}
